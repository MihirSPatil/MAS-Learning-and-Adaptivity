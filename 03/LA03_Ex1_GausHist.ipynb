{
 "cells": [
  {
   "cell_type": "markdown",
   "metadata": {},
   "source": [
    "### Team Members:\n",
    "\n",
    "### Erick Kramer\n",
    "### Mihir Patil\n",
    "### Sushma Devaramani"
   ]
  },
  {
   "cell_type": "markdown",
   "metadata": {},
   "source": [
    "## Task 1\n",
    "Use NumPy function to draw random samples from a normal (Gaussian) distribution.\n",
    "- Create a set of 2000 samples using NumPy function. This data set should be distributed as a Gaussian with mean=0 and standard deviation (std)=0.2\n",
    "- For the created data set verify the mean and the variance\n",
    "- Display/plot the histogram of the samples, along with the probability density function using matplotlib.pyplot and np functions"
   ]
  },
  {
   "cell_type": "code",
   "execution_count": 1,
   "metadata": {
    "collapsed": true
   },
   "outputs": [],
   "source": [
    "import numpy as np\n",
    "import matplotlib.pyplot as plt\n",
    "import matplotlib.mlab as mlab\n",
    "from scipy import stats\n",
    "import math\n",
    "from scipy.optimize import minimize\n",
    "%matplotlib inline"
   ]
  },
  {
   "cell_type": "code",
   "execution_count": 3,
   "metadata": {},
   "outputs": [
    {
     "name": "stderr",
     "output_type": "stream",
     "text": [
      "/home/kramer/anaconda3/lib/python3.6/site-packages/matplotlib/axes/_axes.py:6462: UserWarning: The 'normed' kwarg is deprecated, and has been replaced by the 'density' kwarg.\n",
      "  warnings.warn(\"The 'normed' kwarg is deprecated, and has been \"\n",
      "/home/kramer/anaconda3/lib/python3.6/site-packages/ipykernel_launcher.py:8: MatplotlibDeprecationWarning: scipy.stats.norm.pdf\n",
      "  \n"
     ]
    },
    {
     "data": {
      "image/png": "[encoded data removed]",
      "text/plain": [
       "<Figure size 432x288 with 1 Axes>"
      ]
     },
     "metadata": {},
     "output_type": "display_data"
    },
    {
     "name": "stdout",
     "output_type": "stream",
     "text": [
      "Actual mean: -0.004345727348075542\n",
      "Actual standard deviation: 0.19675950981583987\n",
      "Verified mean: -0.004345734287940735\n",
      "Verified standard deviation: 0.1967595042614976\n"
     ]
    }
   ],
   "source": [
    "N = 2000\n",
    "mu = 0\n",
    "var = 0.2\n",
    "sigma = math.sqrt(var)\n",
    "X_axis = np.linspace(-20,20,N)\n",
    "X = np.random.normal(mu,var,N)\n",
    "n, bins, patches = plt.hist(X, normed=True)\n",
    "y = mlab.normpdf( bins, mu, sigma)\n",
    "X.sort()\n",
    "plt.plot(X, stats.norm.pdf(X, np.mean(X), np.std(X)),'r')\n",
    "plt.plot(X, [0.001]*len(X), 'go')\n",
    "plt.grid()\n",
    "plt.show()\n",
    "\n",
    "#verifying the mean and variance using minimize function\n",
    "def minimize_function(x, args):\n",
    "    #mean and sigma values\n",
    "    m = x[0]\n",
    "    sig = x[1]\n",
    "    X_ = args[0]\n",
    "    pdf = args[1]\n",
    "    #computing pdf from the formula\n",
    "    y_ = (np.exp(-1*((X_-m)**2)/(2*sig**2)))/(sig*np.sqrt(2*np.pi))\n",
    "    #compare the above pdf with the gaussian pdf, Use stats.norm.logpdf\n",
    "    #sum the difference in pdf values which should result to zero.\n",
    "    compared = -np.sum(stats.norm.logpdf(y_, loc=pdf))\n",
    "    return compared\n",
    "\n",
    "#initialize mean and variance\n",
    "x0 = [1,2]\n",
    "pdf_ = stats.norm.pdf(X, np.mean(X), np.std(X))\n",
    "args = [X, pdf_]\n",
    "result = minimize(minimize_function, x0, args = args, tol=0.001, method='BFGS')\n",
    "print (\"Actual mean:\", np.mean(X))\n",
    "print (\"Actual standard deviation:\", np.std(X))\n",
    "print (\"Verified mean:\", result.x[0])\n",
    "print (\"Verified standard deviation:\", result.x[1])"
   ]
  },
  {
   "cell_type": "markdown",
   "metadata": {},
   "source": [
    "## Task 2\n",
    "Two-dimensional kernel density estimate: comparing scikit-learn and scipy"
   ]
  },
  {
   "cell_type": "markdown",
   "metadata": {},
   "source": [
    "### Kernel Density Estimation\n",
    "Kernel density estimation is a non-parametric way of estimating probability density function of a random variable X. Kernels are used for this purpose. The kernel functions are typically smooth functions with a single mode at x=0.\n",
    "There are several options in computing kernel density estimates in python. The task is to compare two of those options: scikit-learn and scipy.\n",
    "\n",
    "\n",
    "### Comparison of scikit-learn and scipy methodologies for KDE\n",
    "| scikit-learn                                                                \t| scipy                                                                                 \t|\n",
    "|-----------------------------------------------------------------------------\t|---------------------------------------------------------------------------------------\t|\n",
    "|1) Implemented using sklearn.neighbors.KernelDensity estimator                 \t|1) Implemented using scipy.stats.gaussian_kde                                            \t|\n",
    "|2) Contains six kernels: gaussian, tophat, exponential, linear and cosine.     \t|2) Contains only gaussian kernel.                                                        \t|\n",
    "|3) Uses Ball tree or KD tree for efficient queries.                            \t|3) No Tree-based computation                                                             \t|\n",
    "|4) Emperical approach namely cross validation is used for bandwidth selection. \t|4) The common reference rule namely Silverman's rule is used for selection of bandwidth. \t|\n",
    "|5) Estimates different charecterstics since it has six kernels.                \t|5) Can estimate only based on gaussian kernel.                                           \t|\n",
    "|6) Results in a very flexible range of effective kernel shapes.                \t|6) It has only one gaussian kernel shape.                                                \t|\n",
    "\n"
   ]
  },
  {
   "cell_type": "markdown",
   "metadata": {},
   "source": [
    "#### Citation\n",
    "1. [https://jakevdp.github.io/blog/2013/12/01/kernel-density-estimation/](https://jakevdp.github.io/blog/2013/12/01/kernel-density-estimation/)\n",
    "2. [http://scikit-learn.org/stable/modules/density.html](http://scikit-learn.org/stable/modules/density.html)\n",
    "3. [https://docs.scipy.org/doc/scipy-0.15.1/reference/generated/scipy.stats.gaussian_kde.html](https://docs.scipy.org/doc/scipy-0.15.1/reference/generated/scipy.stats.gaussian_kde.html)\n",
    "4. [http://www.mvstat.net/tduong/research/seminars/seminar-2001-05/](http://www.mvstat.net/tduong/research/seminars/seminar-2001-05/)"
   ]
  },
  {
   "cell_type": "code",
   "execution_count": null,
   "metadata": {
    "collapsed": true
   },
   "outputs": [],
   "source": []
  }
 ],
 "metadata": {
  "kernelspec": {
   "display_name": "Python 2",
   "language": "python",
   "name": "python2"
  },
  "language_info": {
   "codemirror_mode": {
    "name": "ipython",
    "version": 3
   },
   "file_extension": ".py",
   "mimetype": "text/x-python",
   "name": "python",
   "nbconvert_exporter": "python",
   "pygments_lexer": "ipython3",
   "version": "3.6.2"
  }
 },
 "nbformat": 4,
 "nbformat_minor": 1
}
