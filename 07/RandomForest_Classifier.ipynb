{
 "cells": [
  {
   "cell_type": "markdown",
   "metadata": {},
   "source": [
    "# Hochschule Bonn-Rhein-Sieg\n",
    "\n",
    "# Learning and Adaptivity - Assignment 8\n",
    "\n",
    "## Team Members: \n",
    "\n",
    "### Erick Kramer\n",
    "\n",
    "### Mihir Patil\n",
    "\n",
    "### Sushma Devaramani"
   ]
  },
  {
   "cell_type": "code",
   "execution_count": 1,
   "metadata": {},
   "outputs": [],
   "source": [
    "from sklearn.datasets import fetch_mldata\n",
    "import numpy as np\n",
    "import random\n",
    "from sklearn.ensemble import RandomForestClassifier\n",
    "from sklearn.ensemble import RandomForestRegressor\n",
    "import matplotlib.pyplot as plt\n",
    "import time\n",
    "\n",
    "import seaborn as sns; sns.set()\n"
   ]
  },
  {
   "cell_type": "markdown",
   "metadata": {},
   "source": [
    "### 1. Get the MNIST dataset, select one kind of model and train multiple instances of the same model in this dataset (say, from 1 to 100).\n",
    "\n",
    "* The MNIST dataset is selected and trained using the Random Forest algorithm.\n",
    "* Initially, the MNIST dataset is fetched using 'fetch_mldata' function from sklearn package.\n",
    "* The number of training data is taken as 60000 and testing data is 10000"
   ]
  },
  {
   "cell_type": "code",
   "execution_count": 79,
   "metadata": {},
   "outputs": [],
   "source": [
    "mnist = fetch_mldata('MNIST original')\n",
    "\n",
    "#Extract training and testing data\n",
    "ntrain = 60000\n",
    "ntest = 10000\n",
    "\n",
    "#Training and testing sets\n",
    "indices = np.arange(len(mnist.data))\n",
    "random.seed(0)\n",
    "\n",
    "train_idx = random.sample(list(indices),ntrain)\n",
    "test_idx = random.sample(list(indices),ntest)\n",
    "\n",
    "X_train, y_train = mnist.data[train_idx], mnist.target[train_idx]\n",
    "X_test, y_test = mnist.data[test_idx], mnist.target[test_idx]"
   ]
  },
  {
   "cell_type": "markdown",
   "metadata": {},
   "source": [
    "* The selected ensemble method is Random Forest and the selected model is Decision tree.\n",
    "* The number of estimators is selected in the range (2, 100) in jumps of 5.\n",
    "* Then we have trained the ensemble for different number of estimators using 'RandomForestClassifier' method of sklearn package.\n"
   ]
  },
  {
   "cell_type": "code",
   "execution_count": 4,
   "metadata": {},
   "outputs": [
    {
     "name": "stdout",
     "output_type": "stream",
     "text": [
      "21\n",
      "('My computer took: ', 510.15578293800354)\n"
     ]
    }
   ],
   "source": [
    "# Training random forest\n",
    "start_time = time.time()\n",
    "n_Estimators = np.hstack((np.arange(2,100,5),100))\n",
    "\n",
    "# Creating list of random forest with the different number of estimators\n",
    "list_clf = list()\n",
    "list_predictions = list()\n",
    "list_accuracies = list()\n",
    "list_probabilities = list()\n",
    "for i,estimators in enumerate(n_Estimators):\n",
    "    \n",
    "    #Create the random forest\n",
    "    list_clf.append(RandomForestClassifier(n_estimators=estimators, random_state=0))\n",
    "    \n",
    "    #Train the random forest\n",
    "    list_clf[i].fit(X_train,y_train)\n",
    "    \n",
    "    #Make a prediction of the labels\n",
    "    list_predictions.append(list_clf[i].predict(X_test))\n",
    "    \n",
    "    list_accuracies.append(list_clf[i].score(X_test,y_test))\n",
    "    \n",
    "    list_probabilities.append(list_clf[i].predict_proba(X_test))\n",
    "    \n",
    "print(len(list_clf))\n",
    "print(\"My computer took: \", time.time() - start_time)"
   ]
  },
  {
   "cell_type": "code",
   "execution_count": 5,
   "metadata": {},
   "outputs": [],
   "source": [
    "#Back up of lists\n",
    "list_clf_bk = list_clf\n",
    "list_predictions_bk = list_predictions\n",
    "list_accuracies_bk = list_accuracies\n",
    "list_probabilities_bk = list_probabilities"
   ]
  },
  {
   "cell_type": "markdown",
   "metadata": {},
   "source": [
    "### Estimation of accuray and uncertainty of test image\n",
    "\n",
    "Considering one of the test image, we have calculated the accuracy and uncertainty for different number of estimators."
   ]
  },
  {
   "cell_type": "code",
   "execution_count": 92,
   "metadata": {},
   "outputs": [
    {
     "name": "stdout",
     "output_type": "stream",
     "text": [
      "('Number of trees: ', 2)\n",
      "('Accuracy: ', 0.9183)\n",
      "('Uncertainty for first test image: ', array([0. , 0. , 0. , 0. , 0. , 0. , 0. , 0.5, 0. , 0.5]))\n",
      "___________________________________________________________________________\n",
      "('Number of trees: ', 7)\n",
      "('Accuracy: ', 0.9869)\n",
      "('Uncertainty for first test image: ', array([0.14285714, 0.        , 0.        , 0.        , 0.14285714,\n",
      "       0.        , 0.        , 0.14285714, 0.        , 0.57142857]))\n",
      "___________________________________________________________________________\n",
      "('Number of trees: ', 12)\n",
      "('Accuracy: ', 0.9917)\n",
      "('Uncertainty for first test image: ', array([0.08333333, 0.        , 0.        , 0.        , 0.08333333,\n",
      "       0.        , 0.        , 0.08333333, 0.        , 0.75      ]))\n",
      "___________________________________________________________________________\n",
      "('Number of trees: ', 17)\n",
      "('Accuracy: ', 0.9925)\n",
      "('Uncertainty for first test image: ', array([0.05882353, 0.        , 0.        , 0.        , 0.05882353,\n",
      "       0.05882353, 0.        , 0.05882353, 0.        , 0.76470588]))\n",
      "___________________________________________________________________________\n",
      "('Number of trees: ', 22)\n",
      "('Accuracy: ', 0.9934)\n",
      "('Uncertainty for first test image: ', array([0.09090909, 0.        , 0.        , 0.        , 0.09090909,\n",
      "       0.04545455, 0.        , 0.04545455, 0.        , 0.72727273]))\n",
      "___________________________________________________________________________\n",
      "('Number of trees: ', 27)\n",
      "('Accuracy: ', 0.9951)\n",
      "('Uncertainty for first test image: ', array([0.07407407, 0.        , 0.        , 0.        , 0.07407407,\n",
      "       0.07407407, 0.        , 0.07407407, 0.        , 0.7037037 ]))\n",
      "___________________________________________________________________________\n",
      "('Number of trees: ', 32)\n",
      "('Accuracy: ', 0.9953)\n",
      "('Uncertainty for first test image: ', array([0.0625, 0.    , 0.    , 0.    , 0.0625, 0.0625, 0.    , 0.0625,\n",
      "       0.    , 0.75  ]))\n",
      "___________________________________________________________________________\n",
      "('Number of trees: ', 37)\n",
      "('Accuracy: ', 0.9949)\n",
      "('Uncertainty for first test image: ', array([0.05405405, 0.        , 0.        , 0.        , 0.05405405,\n",
      "       0.08108108, 0.        , 0.05405405, 0.        , 0.75675676]))\n",
      "___________________________________________________________________________\n",
      "('Number of trees: ', 42)\n",
      "('Accuracy: ', 0.995)\n",
      "('Uncertainty for first test image: ', array([0.04761905, 0.        , 0.        , 0.        , 0.04761905,\n",
      "       0.07142857, 0.        , 0.0952381 , 0.        , 0.73809524]))\n",
      "___________________________________________________________________________\n",
      "('Number of trees: ', 47)\n",
      "('Accuracy: ', 0.9948)\n",
      "('Uncertainty for first test image: ', array([0.04255319, 0.        , 0.        , 0.        , 0.04255319,\n",
      "       0.06382979, 0.        , 0.10638298, 0.        , 0.74468085]))\n",
      "___________________________________________________________________________\n",
      "('Number of trees: ', 52)\n",
      "('Accuracy: ', 0.9949)\n",
      "('Uncertainty for first test image: ', array([0.03846154, 0.        , 0.        , 0.        , 0.03846154,\n",
      "       0.05769231, 0.        , 0.09615385, 0.        , 0.76923077]))\n",
      "___________________________________________________________________________\n",
      "('Number of trees: ', 57)\n",
      "('Accuracy: ', 0.995)\n",
      "('Uncertainty for first test image: ', array([0.03508772, 0.        , 0.        , 0.        , 0.03508772,\n",
      "       0.05263158, 0.        , 0.10526316, 0.        , 0.77192982]))\n",
      "___________________________________________________________________________\n",
      "('Number of trees: ', 62)\n",
      "('Accuracy: ', 0.9952)\n",
      "('Uncertainty for first test image: ', array([0.03225806, 0.        , 0.        , 0.        , 0.03225806,\n",
      "       0.0483871 , 0.        , 0.09677419, 0.        , 0.79032258]))\n",
      "___________________________________________________________________________\n",
      "('Number of trees: ', 67)\n",
      "('Accuracy: ', 0.9949)\n",
      "('Uncertainty for first test image: ', array([0.02985075, 0.        , 0.        , 0.        , 0.02985075,\n",
      "       0.05970149, 0.        , 0.10447761, 0.01492537, 0.76119403]))\n",
      "___________________________________________________________________________\n",
      "('Number of trees: ', 72)\n",
      "('Accuracy: ', 0.9951)\n",
      "('Uncertainty for first test image: ', array([0.04166667, 0.        , 0.        , 0.        , 0.02777778,\n",
      "       0.05555556, 0.        , 0.11111111, 0.01388889, 0.75      ]))\n",
      "___________________________________________________________________________\n",
      "('Number of trees: ', 77)\n",
      "('Accuracy: ', 0.9949)\n",
      "('Uncertainty for first test image: ', array([0.03896104, 0.        , 0.        , 0.        , 0.02597403,\n",
      "       0.06493506, 0.        , 0.1038961 , 0.01298701, 0.75324675]))\n",
      "___________________________________________________________________________\n",
      "('Number of trees: ', 82)\n",
      "('Accuracy: ', 0.9951)\n",
      "('Uncertainty for first test image: ', array([0.03658537, 0.        , 0.        , 0.        , 0.02439024,\n",
      "       0.06097561, 0.        , 0.1097561 , 0.01219512, 0.75609756]))\n",
      "___________________________________________________________________________\n",
      "('Number of trees: ', 87)\n",
      "('Accuracy: ', 0.9952)\n",
      "('Uncertainty for first test image: ', array([0.04597701, 0.        , 0.        , 0.        , 0.02298851,\n",
      "       0.05747126, 0.        , 0.11494253, 0.01149425, 0.74712644]))\n",
      "___________________________________________________________________________\n",
      "('Number of trees: ', 92)\n",
      "('Accuracy: ', 0.9951)\n",
      "('Uncertainty for first test image: ', array([0.04347826, 0.        , 0.        , 0.        , 0.02173913,\n",
      "       0.05434783, 0.        , 0.11956522, 0.02173913, 0.73913043]))\n",
      "___________________________________________________________________________\n",
      "('Number of trees: ', 97)\n",
      "('Accuracy: ', 0.9951)\n",
      "('Uncertainty for first test image: ', array([0.04123711, 0.        , 0.        , 0.        , 0.02061856,\n",
      "       0.05154639, 0.        , 0.12371134, 0.02061856, 0.74226804]))\n",
      "___________________________________________________________________________\n",
      "('Number of trees: ', 100)\n",
      "('Accuracy: ', 0.995)\n",
      "('Uncertainty for first test image: ', array([0.04, 0.  , 0.  , 0.  , 0.02, 0.05, 0.  , 0.13, 0.02, 0.74]))\n",
      "___________________________________________________________________________\n"
     ]
    }
   ],
   "source": [
    "# Printing results\n",
    "# For the first test image\n",
    "for i in range(len(list_clf)):\n",
    "    print(\"Number of trees: \", n_Estimators[i])\n",
    "    print(\"Accuracy: \", list_accuracies[i])\n",
    "    print(\"Uncertainty for first test image: \",list_probabilities[i][0])\n",
    "    print(\"___________________________________________________________________________\")"
   ]
  },
  {
   "cell_type": "markdown",
   "metadata": {},
   "source": [
    "### 2.- With the trained models, make ensembles of [2, 3, ..., 100] members, evaluate the testing accuracy of each ensemble, and estimate the uncertainty of their outputs using a histogram or average of softmax outputs (depending on the model).\n",
    "\n",
    "* For the trained models, We have obtained the probability values for different number of trees. \n",
    "* The prediction probabilities for varying number of trees helps us determine how the uncertainty varies as the number of trees are increased.\n",
    "* The histograms of probabilty values are plotted for different number of trees. \n",
    "\n",
    "### Testing Image"
   ]
  },
  {
   "cell_type": "code",
   "execution_count": 105,
   "metadata": {},
   "outputs": [
    {
     "data": {
      "text/plain": [
       "<matplotlib.image.AxesImage at 0x7f64ff1bc890>"
      ]
     },
     "execution_count": 105,
     "metadata": {},
     "output_type": "execute_result"
    },
    {
     "data": {
      "image/png": "[encoded data removed]",
      "text/plain": [
       "<matplotlib.figure.Figure at 0x7f64ffbdf550>"
      ]
     },
     "metadata": {},
     "output_type": "display_data"
    }
   ],
   "source": [
    "image = X_test[0]\n",
    "plt.imshow(image.reshape(28,28), cmap='binary')"
   ]
  },
  {
   "cell_type": "markdown",
   "metadata": {},
   "source": [
    "### Plotting the probabilities"
   ]
  },
  {
   "cell_type": "code",
   "execution_count": 106,
   "metadata": {},
   "outputs": [
    {
     "data": {
      "text/plain": [
       "Text(0.5,1,u'Number of trees: 100')"
      ]
     },
     "execution_count": 106,
     "metadata": {},
     "output_type": "execute_result"
    },
    {
     "data": {
      "image/png": "[encoded data removed]",
      "text/plain": [
       "<matplotlib.figure.Figure at 0x7f64ff1a6310>"
      ]
     },
     "metadata": {},
     "output_type": "display_data"
    }
   ],
   "source": [
    "# Histogram part for a sample of ensembles for the first test image\n",
    "image = X_test[0]\n",
    "x_axis = np.arange(0,10)\n",
    "fig = plt.figure(figsize=(12,10))\n",
    "plt.subplot(2,2,1)\n",
    "plt.step(x_axis, list_probabilities[0][0])\n",
    "plt.xlabel('Clases')\n",
    "plt.ylabel('Probability')\n",
    "plt.title('Number of trees: 2')\n",
    "\n",
    "plt.subplot(2,2,2)\n",
    "plt.step(x_axis, list_probabilities[4][0])\n",
    "plt.xlabel('Clases')\n",
    "plt.ylabel('Probability')\n",
    "plt.title('Number of trees: 22')\n",
    "\n",
    "plt.subplot(2,2,3)\n",
    "plt.step(x_axis, list_probabilities[10][0])\n",
    "plt.xlabel('Clases')\n",
    "plt.ylabel('Probability')\n",
    "plt.title('Number of trees: 52')\n",
    "\n",
    "plt.subplot(2,2,4)\n",
    "plt.step(x_axis, list_probabilities[-1][0])\n",
    "plt.xlabel('Clases')\n",
    "plt.ylabel('Probability')\n",
    "plt.title('Number of trees: 100')"
   ]
  },
  {
   "cell_type": "markdown",
   "metadata": {},
   "source": [
    "#### Comments: \n",
    "* There are varying probabilities for different number of trees.\n",
    "* For two trees, the probabilities are equally distributed among two class (6 and 8).\n",
    "* As the number of trees are increased, the probabilities are gradually concentrating to the correct class."
   ]
  },
  {
   "cell_type": "markdown",
   "metadata": {},
   "source": [
    "### 3. Does the accuracy and uncertainty improve by having more members in each ensemble?\n",
    "\n",
    "* Yes, the accuraccy increases as the number of members in each ensemble increases. While the uncertainity decreases with increase in the number of members of each ensemble.\n",
    "\n",
    "\n",
    "* The rationale of Ensembles is that complex models have high variance and averaging many of them contributes to reducing it. In principle a complex model is able to perfectly learn the true function, but this is also its drawback. In practice it adapts to much to the subset of the data that is seeing, thus several complex model that are trained with different subset of the data display high variability in the resulting model. This type of problem can be addressed by averaging many complex models as Rnadom Forest does: it builds a large ensemble of trees and then averages their prediction to obtain a final model.\n",
    "\n",
    "\n",
    "* Hence we can conclude that by each tree perfectly learns only one feature in the input data, thus by having more trees in the forest we ensure that more features are learnt and by averaging the variance for each such tree we basically reduce the amount of uncertainity in the predicted value for the test image as we now have more number of learnt features.  \n",
    "\n",
    "Citation: https://www.add-for.com/2016/03/22/ensemble-methods-random-forests/\n"
   ]
  },
  {
   "cell_type": "code",
   "execution_count": 93,
   "metadata": {},
   "outputs": [
    {
     "data": {
      "image/png": "[encoded data removed]",
      "text/plain": [
       "<matplotlib.figure.Figure at 0x7f65005e4690>"
      ]
     },
     "metadata": {},
     "output_type": "display_data"
    },
    {
     "name": "stdout",
     "output_type": "stream",
     "text": [
      "=================================================================================================================\n",
      "Class prediction probabilities in the first ensemble with only two trees [0. 0. 1. 0. 0. 0. 0. 0. 0. 0.]\n",
      "Accuracy for the first ensemble 0.9183\n",
      "=================================================================================================================\n",
      "Class prediction probabilities in the first ensemble with 100 trees [0.01 0.   0.98 0.   0.   0.01 0.   0.   0.   0.  ]\n",
      "Accuracy for the first ensemble 0.995\n"
     ]
    },
    {
     "ename": "NameError",
     "evalue": "name 'pred_single_img' is not defined",
     "output_type": "error",
     "traceback": [
      "\u001b[0;31m---------------------------------------------------------------------------\u001b[0m",
      "\u001b[0;31mNameError\u001b[0m                                 Traceback (most recent call last)",
      "\u001b[0;32m<ipython-input-93-91e81ea5f1f4>\u001b[0m in \u001b[0;36m<module>\u001b[0;34m()\u001b[0m\n\u001b[1;32m     10\u001b[0m \u001b[0mfig\u001b[0m \u001b[0;34m=\u001b[0m \u001b[0mplt\u001b[0m\u001b[0;34m.\u001b[0m\u001b[0mfigure\u001b[0m\u001b[0;34m(\u001b[0m\u001b[0mfigsize\u001b[0m\u001b[0;34m=\u001b[0m\u001b[0;34m(\u001b[0m\u001b[0;36m12\u001b[0m\u001b[0;34m,\u001b[0m\u001b[0;36m10\u001b[0m\u001b[0;34m)\u001b[0m\u001b[0;34m)\u001b[0m\u001b[0;34m\u001b[0m\u001b[0m\n\u001b[1;32m     11\u001b[0m \u001b[0mplt\u001b[0m\u001b[0;34m.\u001b[0m\u001b[0msubplot\u001b[0m\u001b[0;34m(\u001b[0m\u001b[0;36m2\u001b[0m\u001b[0;34m,\u001b[0m\u001b[0;36m2\u001b[0m\u001b[0;34m,\u001b[0m\u001b[0;36m1\u001b[0m\u001b[0;34m)\u001b[0m\u001b[0;34m\u001b[0m\u001b[0m\n\u001b[0;32m---> 12\u001b[0;31m \u001b[0mplt\u001b[0m\u001b[0;34m.\u001b[0m\u001b[0mstep\u001b[0m\u001b[0;34m(\u001b[0m\u001b[0mx_axis\u001b[0m\u001b[0;34m,\u001b[0m \u001b[0mpred_single_img\u001b[0m\u001b[0;34m[\u001b[0m\u001b[0;36m0\u001b[0m\u001b[0;34m]\u001b[0m\u001b[0;34m)\u001b[0m\u001b[0;34m\u001b[0m\u001b[0m\n\u001b[0m\u001b[1;32m     13\u001b[0m \u001b[0mplt\u001b[0m\u001b[0;34m.\u001b[0m\u001b[0msubplot\u001b[0m\u001b[0;34m(\u001b[0m\u001b[0;36m2\u001b[0m\u001b[0;34m,\u001b[0m\u001b[0;36m2\u001b[0m\u001b[0;34m,\u001b[0m\u001b[0;36m2\u001b[0m\u001b[0;34m)\u001b[0m\u001b[0;34m\u001b[0m\u001b[0m\n\u001b[1;32m     14\u001b[0m \u001b[0mplt\u001b[0m\u001b[0;34m.\u001b[0m\u001b[0mstep\u001b[0m\u001b[0;34m(\u001b[0m\u001b[0mx_axis\u001b[0m\u001b[0;34m,\u001b[0m \u001b[0mpred_single_img20\u001b[0m\u001b[0;34m[\u001b[0m\u001b[0;36m0\u001b[0m\u001b[0;34m]\u001b[0m\u001b[0;34m)\u001b[0m\u001b[0;34m\u001b[0m\u001b[0m\n",
      "\u001b[0;31mNameError\u001b[0m: name 'pred_single_img' is not defined"
     ]
    },
    {
     "data": {
      "image/png": "[encoded data removed]",
      "text/plain": [
       "<matplotlib.figure.Figure at 0x7f6500561f50>"
      ]
     },
     "metadata": {},
     "output_type": "display_data"
    }
   ],
   "source": [
    "plt.imshow(X_test[1].reshape(28,28), cmap = 'gist_gray')\n",
    "plt.show()\n",
    "print '================================================================================================================='\n",
    "print \"Class prediction probabilities in the first ensemble with only two trees\",list_probabilities[0][1]\n",
    "print \"Accuracy for the first ensemble\",list_accuracies[0]\n",
    "print '================================================================================================================='\n",
    "print \"Class prediction probabilities in the first ensemble with 100 trees\",list_probabilities[20][1]\n",
    "print \"Accuracy for the first ensemble\",list_accuracies[20]\n",
    "                                            \n",
    "fig = plt.figure(figsize=(12,10))\n",
    "plt.subplot(2,2,1)\n",
    "plt.step(x_axis, pred_single_img[0])\n",
    "plt.subplot(2,2,2)\n",
    "plt.step(x_axis, pred_single_img20[0])"
   ]
  },
  {
   "cell_type": "markdown",
   "metadata": {},
   "source": [
    "4- Using a single ensemble of your choosing, find the misclassified examples in the test set and analyze the uncertainity of those examples. Can the uncertainty explain why those examples are misclassified?. "
   ]
  },
  {
   "cell_type": "code",
   "execution_count": 9,
   "metadata": {},
   "outputs": [
    {
     "name": "stdout",
     "output_type": "stream",
     "text": [
      "51\n"
     ]
    }
   ],
   "source": [
    "forest_52 = list_clf[10]\n",
    "predictions_52 = list_predictions[10]\n",
    "proba_52 = list_probabilities[10]\n",
    "\n",
    "misclassified_idx = []\n",
    "for i in range(len(y_test)):\n",
    "    if predictions_52[i] != y_test[i]:\n",
    "        misclassified_idx.append(i)\n",
    "        \n",
    "print(len(misclassified_idx))"
   ]
  },
  {
   "cell_type": "code",
   "execution_count": 10,
   "metadata": {},
   "outputs": [
    {
     "name": "stdout",
     "output_type": "stream",
     "text": [
      "('Predicted class: ', 7.0)\n",
      "('True class: ', 7.0)\n",
      "[1.0, 0.0]\n"
     ]
    }
   ],
   "source": [
    "print(\"Predicted class: \", predictions_52[674])\n",
    "print(\"True class: \", y_test[674])\n",
    "a = sorted(proba_52[674], reverse=True)\n",
    "print(a[0:2])"
   ]
  },
  {
   "cell_type": "code",
   "execution_count": 108,
   "metadata": {},
   "outputs": [
    {
     "name": "stdout",
     "output_type": "stream",
     "text": [
      "('Predicted class: ', 8.0)\n",
      "('True class: ', 0.0)\n",
      "('Predicted class: ', 8.0)\n",
      "('True class: ', 8.0)\n"
     ]
    },
    {
     "data": {
      "image/png": "[encoded data removed]",
      "text/plain": [
       "<matplotlib.figure.Figure at 0x7f64fedfe1d0>"
      ]
     },
     "metadata": {},
     "output_type": "display_data"
    }
   ],
   "source": [
    "print(\"Predicted class: \", predictions_52[240])\n",
    "print(\"True class: \", y_test[240])\n",
    "plt.figure(figsize=(12,10))\n",
    "bins = np.arange(0,10)\n",
    "plt.subplot(2,2,3)\n",
    "plt.step(bins, proba_52[240], color='r')\n",
    "plt.xlabel('Classes')\n",
    "plt.ylabel('Probabilities of misclassified example')\n",
    "plt.title('Plot of miscalssified image') \n",
    "\n",
    "plt.subplot(2,2,4)\n",
    "plt.step(bins, proba_52[260], color='g')\n",
    "plt.xlabel('Classes')\n",
    "plt.ylabel('Probabilities of correctly classified example')\n",
    "plt.title('Plot of Correctly classified image') \n",
    "\n",
    "print(\"Predicted class: \", predictions_52[260])\n",
    "print(\"True class: \", y_test[260])\n",
    "\n",
    "plt.subplot(2,2,1)\n",
    "plt.title('Predicted class : 8, True class : 0')\n",
    "plt.imshow(X_test[240].reshape(28,28), cmap='binary' )\n",
    "plt.subplot(2,2,2)\n",
    "plt.title('Predicted class : 8, True class : 8')\n",
    "plt.imshow(X_test[260].reshape(28,28), cmap='binary' )\n",
    "plt.show()"
   ]
  },
  {
   "cell_type": "code",
   "execution_count": 16,
   "metadata": {},
   "outputs": [],
   "source": [
    "def plot_hist(ensemble,image):\n",
    "    predicted_classes = []\n",
    "    for i,estimator in enumerate(ensemble.estimators_):\n",
    "        predicted_classes.append(estimator.predict_proba(np.reshape(image,(1,-1)))[0])\n",
    "    return predicted_classes"
   ]
  },
  {
   "cell_type": "code",
   "execution_count": 17,
   "metadata": {},
   "outputs": [
    {
     "name": "stdout",
     "output_type": "stream",
     "text": [
      "[array([0., 0., 0., 0., 0., 0., 0., 0., 0., 1.]), array([0, 0, 0, 0, 0, 1, 0, 0, 0, 0])]\n"
     ]
    },
    {
     "data": {
      "text/plain": [
       "[<matplotlib.lines.Line2D at 0x7f64f388f610>]"
      ]
     },
     "execution_count": 17,
     "metadata": {},
     "output_type": "execute_result"
    },
    {
     "data": {
      "image/png": "[encoded data removed]",
      "text/plain": [
       "<matplotlib.figure.Figure at 0x7f64f40e9150>"
      ]
     },
     "metadata": {},
     "output_type": "display_data"
    }
   ],
   "source": [
    "# #Prediction of a single tree in the forest for that particular image\n",
    "# Ensemble of 2 trees\n",
    "predicted_classes = plot_hist(list_clf[0], X_test[0])\n",
    "predicted_classes[1] = np.array([0,0,0,0,0,1,0,0,0,0])\n",
    "print(predicted_classes)\n",
    "plt.step(np.arange(0,10),np.mean(predicted_classes,0))\n",
    "# # Ensemble of 22\n",
    "# ensemble = list_clf[4]\n",
    "# # Ensemble of 52\n",
    "# ensemble = list_clf[10]\n",
    "# #Ensemble of 100 trees\n",
    "# ensemble = list_clf[-1]]\n",
    "\n",
    "# list_clf[20].estimators_[0].predict_proba(np.reshape(X_test[0],(1,-1)))[0]"
   ]
  },
  {
   "cell_type": "code",
   "execution_count": 61,
   "metadata": {},
   "outputs": [
    {
     "data": {
      "text/plain": [
       "RandomForestRegressor(bootstrap=True, criterion='mse', max_depth=None,\n",
       "           max_features='auto', max_leaf_nodes=None,\n",
       "           min_impurity_decrease=0.0, min_impurity_split=None,\n",
       "           min_samples_leaf=1, min_samples_split=2,\n",
       "           min_weight_fraction_leaf=0.0, n_estimators=10, n_jobs=1,\n",
       "           oob_score=False, random_state=0, verbose=0, warm_start=False)"
      ]
     },
     "execution_count": 61,
     "metadata": {},
     "output_type": "execute_result"
    }
   ],
   "source": [
    "x_train = np.linspace(-4,4, 20)\n",
    "noise = np.random.normal(0,3**2,20)\n",
    "y_train = x_train**3 + noise\n",
    "x_train = x_train.reshape((-1,1))\n",
    "crf = RandomForestRegressor(n_estimators=10, random_state=0)\n",
    "crf.fit(x_train,y_train)"
   ]
  },
  {
   "cell_type": "code",
   "execution_count": 73,
   "metadata": {},
   "outputs": [
    {
     "name": "stdout",
     "output_type": "stream",
     "text": [
      "[[-60.44391403 -60.44391403  42.33038453  42.33038453]\n",
      " [-60.44391403 -60.44391403  55.71022495  55.71022495]\n",
      " [-56.45099799 -56.45099799  55.71022495  55.71022495]\n",
      " [-56.45099799 -56.45099799  21.32276736  21.32276736]\n",
      " [-60.44391403 -60.44391403  55.71022495  55.71022495]\n",
      " [-60.44391403 -60.44391403  55.71022495  55.71022495]\n",
      " [ -3.45709055  -3.45709055  42.33038453  42.33038453]\n",
      " [-60.44391403 -60.44391403  42.33038453  42.33038453]\n",
      " [-60.44391403 -60.44391403  55.71022495  55.71022495]\n",
      " [-60.44391403 -60.44391403  43.91849897  43.91849897]]\n",
      "2750.0503430022477\n"
     ]
    }
   ],
   "source": [
    "extra_values = np.hstack(((np.arange(-6,-4)), np.arange(5,7)))\n",
    "# print(extra_values)\n",
    "# extra_predictions = crf.predict(extra_values.reshape(-1,1))\n",
    "\n",
    "estimated_y = []\n",
    "for i in range(len(crf.estimators_)):\n",
    "    estimated_y.append(crf.estimators_[i].predict(extra_values.reshape(-1,1)))\n",
    "    \n",
    "    \n",
    "estimated_y = np.array(estimated_y)\n",
    "\n",
    "y_predict = np.vstack((extra_predictions[0:2][np.newaxis].T,x_train**3,extra_predictions[2:3][np.newaxis].T))\n",
    "t = np.mean(y_predict, axis =1)\n",
    "print estimated_y\n",
    "variance = np.var(estimated_y)\n",
    "print variance\n",
    "var = []\n",
    "for i in range(len(estimated_y)):\n",
    "    var.append(np.var(estimated_y[i]))\n",
    "mean_val = np.mean(estimated_y, axis=1)\n",
    "# var1 = np.var(estimated_y[0])\n",
    "# var2 = np.var(estimated_y[1])\n",
    "# var3 = np.var(estimated_y[2])\n",
    "#mean_val"
   ]
  },
  {
   "cell_type": "code",
   "execution_count": 78,
   "metadata": {},
   "outputs": [
    {
     "data": {
      "text/plain": [
       "<matplotlib.collections.PolyCollection at 0x7f64f3698c90>"
      ]
     },
     "execution_count": 78,
     "metadata": {},
     "output_type": "execute_result"
    },
    {
     "data": {
      "image/png": "[encoded data removed]",
      "text/plain": [
       "<matplotlib.figure.Figure at 0x7f64f3062bd0>"
      ]
     },
     "metadata": {},
     "output_type": "display_data"
    }
   ],
   "source": [
    "#Ground truth\n",
    "x_true = np.linspace(-6,6)\n",
    "y_true = x_true**3\n",
    "\n",
    "plt.scatter(x_train,y_train, color='r')\n",
    "plt.plot(x_true,y_true,'b')\n",
    "\n",
    "plt.fill_between(np.linspace(-6,6,23), t.reshape(-1)+np.sqrt(variance), t.reshape(-1)-np.sqrt(variance), alpha=0.5 )"
   ]
  },
  {
   "cell_type": "code",
   "execution_count": 19,
   "metadata": {},
   "outputs": [
    {
     "name": "stdout",
     "output_type": "stream",
     "text": [
      "[-6 -5  5  6]\n"
     ]
    }
   ],
   "source": [
    "extra_values = np.hstack(((np.arange(-6,-4)), np.arange(5,7)))\n",
    "print(extra_values)\n",
    "extra_predictions = crf.predict(extra_values.reshape(-1,1))\n",
    "\n",
    "y_predict = np.vstack((extra_predictions[0:2][np.newaxis].T,x_train**3,extra_predictions[2:3][np.newaxis].T))\n"
   ]
  },
  {
   "cell_type": "code",
   "execution_count": 24,
   "metadata": {},
   "outputs": [
    {
     "data": {
      "text/plain": [
       "[<matplotlib.lines.Line2D at 0x7f64f3702e50>]"
      ]
     },
     "execution_count": 24,
     "metadata": {},
     "output_type": "execute_result"
    },
    {
     "data": {
      "image/png": "[encoded data removed]",
      "text/plain": [
       "<matplotlib.figure.Figure at 0x7f64f3a57ad0>"
      ]
     },
     "metadata": {},
     "output_type": "display_data"
    }
   ],
   "source": [
    "#Ground truth\n",
    "x_true = np.linspace(-6,6)\n",
    "y_true = x_true**3\n",
    "plt.scatter(x_train,y_train, color='r')\n",
    "plt.plot(x_true,y_true,'b')\n",
    "plt.plot(np.linspace(-6,6,23), y_predict,'k')"
   ]
  },
  {
   "cell_type": "code",
   "execution_count": 158,
   "metadata": {},
   "outputs": [
    {
     "data": {
      "text/plain": [
       "<matplotlib.collections.PolyCollection at 0x7efefdf5cc10>"
      ]
     },
     "execution_count": 158,
     "metadata": {},
     "output_type": "execute_result"
    },
    {
     "data": {
      "image/png": "[encoded data removed]",
      "text/plain": [
       "<matplotlib.figure.Figure at 0x7efefeede950>"
      ]
     },
     "metadata": {},
     "output_type": "display_data"
    }
   ],
   "source": [
    "plt.fill_between(np.linspace(-6,6,23), y_predict.reshape(-1) + np.random.normal(0,3**2)+ 0.5, y_predict.reshape(-1) -np.random.normal(0,3**2)- 0.5)"
   ]
  },
  {
   "cell_type": "code",
   "execution_count": null,
   "metadata": {},
   "outputs": [],
   "source": [
    "def train_data(num_estimators):\n",
    "    crf = RandomForestRegressor(n_estimators=num_estimators, random_state=0)\n",
    "    "
   ]
  }
 ],
 "metadata": {
  "kernelspec": {
   "display_name": "Python 2",
   "language": "python",
   "name": "python2"
  },
  "language_info": {
   "codemirror_mode": {
    "name": "ipython",
    "version": 2
   },
   "file_extension": ".py",
   "mimetype": "text/x-python",
   "name": "python",
   "nbconvert_exporter": "python",
   "pygments_lexer": "ipython2",
   "version": "2.7.14"
  }
 },
 "nbformat": 4,
 "nbformat_minor": 2
}
