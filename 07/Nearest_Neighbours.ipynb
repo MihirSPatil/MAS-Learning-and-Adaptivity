{
 "cells": [
  {
   "cell_type": "code",
   "execution_count": 1,
   "metadata": {},
   "outputs": [
    {
     "name": "stdout",
     "output_type": "stream",
     "text": [
      "WARNING:tensorflow:From <ipython-input-1-21958d2ee7dc>:9: read_data_sets (from tensorflow.contrib.learn.python.learn.datasets.mnist) is deprecated and will be removed in a future version.\n",
      "Instructions for updating:\n",
      "Please use alternatives such as official/mnist/dataset.py from tensorflow/models.\n",
      "WARNING:tensorflow:From /usr/local/lib/python3.5/dist-packages/tensorflow/contrib/learn/python/learn/datasets/mnist.py:260: maybe_download (from tensorflow.contrib.learn.python.learn.datasets.base) is deprecated and will be removed in a future version.\n",
      "Instructions for updating:\n",
      "Please write your own downloading logic.\n",
      "WARNING:tensorflow:From /usr/local/lib/python3.5/dist-packages/tensorflow/contrib/learn/python/learn/datasets/mnist.py:262: extract_images (from tensorflow.contrib.learn.python.learn.datasets.mnist) is deprecated and will be removed in a future version.\n",
      "Instructions for updating:\n",
      "Please use tf.data to implement this functionality.\n",
      "Extracting /tmp/data/train-images-idx3-ubyte.gz\n",
      "WARNING:tensorflow:From /usr/local/lib/python3.5/dist-packages/tensorflow/contrib/learn/python/learn/datasets/mnist.py:267: extract_labels (from tensorflow.contrib.learn.python.learn.datasets.mnist) is deprecated and will be removed in a future version.\n",
      "Instructions for updating:\n",
      "Please use tf.data to implement this functionality.\n",
      "Extracting /tmp/data/train-labels-idx1-ubyte.gz\n",
      "WARNING:tensorflow:From /usr/local/lib/python3.5/dist-packages/tensorflow/contrib/learn/python/learn/datasets/mnist.py:110: dense_to_one_hot (from tensorflow.contrib.learn.python.learn.datasets.mnist) is deprecated and will be removed in a future version.\n",
      "Instructions for updating:\n",
      "Please use tf.one_hot on tensors.\n",
      "Extracting /tmp/data/t10k-images-idx3-ubyte.gz\n",
      "Extracting /tmp/data/t10k-labels-idx1-ubyte.gz\n",
      "WARNING:tensorflow:From /usr/local/lib/python3.5/dist-packages/tensorflow/contrib/learn/python/learn/datasets/mnist.py:290: DataSet.__init__ (from tensorflow.contrib.learn.python.learn.datasets.mnist) is deprecated and will be removed in a future version.\n",
      "Instructions for updating:\n",
      "Please use alternatives such as official/mnist/dataset.py from tensorflow/models.\n"
     ]
    }
   ],
   "source": [
    "import warnings\n",
    "warnings.filterwarnings('ignore')\n",
    "\n",
    "import numpy as np\n",
    "import tensorflow as tf\n",
    "\n",
    "# Import MINST data\n",
    "from tensorflow.examples.tutorials.mnist import input_data\n",
    "mnist = input_data.read_data_sets(\"/tmp/data/\", one_hot=True)"
   ]
  },
  {
   "cell_type": "code",
   "execution_count": 6,
   "metadata": {},
   "outputs": [
    {
     "name": "stdout",
     "output_type": "stream",
     "text": [
      "Tensor(\"ArgMin_2:0\", shape=(), dtype=int64)\n"
     ]
    }
   ],
   "source": [
    "# In this example, we limit mnist data\n",
    "Xtr, Ytr = mnist.train.next_batch(5000) #5000 for training (nn candidates)\n",
    "Xte, Yte = mnist.test.next_batch(200) #200 for testing\n",
    "\n",
    "# tf Graph Input\n",
    "xtr = tf.placeholder(\"float\", [None, 784])\n",
    "xte = tf.placeholder(\"float\", [784])\n",
    "\n",
    "# Nearest Neighbor calculation using L1 Distance\n",
    "# Calculate L1 Distance\n",
    "distance = tf.reduce_sum(tf.abs(tf.add(xtr, tf.negative(xte))), reduction_indices=1)\n",
    "\n",
    "# Prediction: Get min distance index (Nearest neighbor)\n",
    "pred = tf.argmin(distance, 0)\n",
    "print(pred)\n",
    "accuracy = 0.\n",
    "\n",
    "# Initialize the variables (i.e. assign their default value)\n",
    "init = tf.global_variables_initializer()"
   ]
  },
  {
   "cell_type": "code",
   "execution_count": 5,
   "metadata": {},
   "outputs": [],
   "source": [
    "tf.reduce_sum?"
   ]
  },
  {
   "cell_type": "code",
   "execution_count": 45,
   "metadata": {},
   "outputs": [
    {
     "name": "stdout",
     "output_type": "stream",
     "text": [
      "Test 0 Prediction: 4 True Class: 4\n",
      "Test 1 Prediction: 2 True Class: 2\n",
      "Test 2 Prediction: 7 True Class: 7\n",
      "Test 3 Prediction: 1 True Class: 1\n",
      "Test 4 Prediction: 0 True Class: 8\n",
      "Test 5 Prediction: 9 True Class: 9\n",
      "Test 6 Prediction: 5 True Class: 8\n",
      "Test 7 Prediction: 6 True Class: 6\n",
      "Test 8 Prediction: 7 True Class: 7\n",
      "Test 9 Prediction: 1 True Class: 1\n",
      "Test 10 Prediction: 7 True Class: 7\n",
      "Test 11 Prediction: 9 True Class: 7\n",
      "Test 12 Prediction: 8 True Class: 8\n",
      "Test 13 Prediction: 8 True Class: 8\n",
      "Test 14 Prediction: 1 True Class: 1\n",
      "Test 15 Prediction: 6 True Class: 6\n",
      "Test 16 Prediction: 3 True Class: 3\n",
      "Test 17 Prediction: 4 True Class: 4\n",
      "Test 18 Prediction: 5 True Class: 5\n",
      "Test 19 Prediction: 7 True Class: 7\n",
      "Test 20 Prediction: 7 True Class: 7\n",
      "Test 21 Prediction: 0 True Class: 0\n",
      "Test 22 Prediction: 9 True Class: 9\n",
      "Test 23 Prediction: 9 True Class: 9\n",
      "Test 24 Prediction: 8 True Class: 8\n",
      "Test 25 Prediction: 4 True Class: 4\n",
      "Test 26 Prediction: 7 True Class: 7\n",
      "Test 27 Prediction: 8 True Class: 8\n",
      "Test 28 Prediction: 8 True Class: 8\n",
      "Test 29 Prediction: 2 True Class: 8\n",
      "Test 30 Prediction: 3 True Class: 3\n",
      "Test 31 Prediction: 9 True Class: 9\n",
      "Test 32 Prediction: 9 True Class: 9\n",
      "Test 33 Prediction: 8 True Class: 8\n",
      "Test 34 Prediction: 4 True Class: 4\n",
      "Test 35 Prediction: 4 True Class: 7\n",
      "Test 36 Prediction: 4 True Class: 4\n",
      "Test 37 Prediction: 2 True Class: 2\n",
      "Test 38 Prediction: 7 True Class: 7\n",
      "Test 39 Prediction: 2 True Class: 2\n",
      "Test 40 Prediction: 9 True Class: 9\n",
      "Test 41 Prediction: 3 True Class: 3\n",
      "Test 42 Prediction: 7 True Class: 9\n",
      "Test 43 Prediction: 1 True Class: 1\n",
      "Test 44 Prediction: 4 True Class: 4\n",
      "Test 45 Prediction: 0 True Class: 0\n",
      "Test 46 Prediction: 3 True Class: 3\n",
      "Test 47 Prediction: 5 True Class: 5\n",
      "Test 48 Prediction: 3 True Class: 3\n",
      "Test 49 Prediction: 4 True Class: 4\n",
      "Test 50 Prediction: 7 True Class: 7\n",
      "Test 51 Prediction: 5 True Class: 5\n",
      "Test 52 Prediction: 4 True Class: 4\n",
      "Test 53 Prediction: 2 True Class: 2\n",
      "Test 54 Prediction: 7 True Class: 7\n",
      "Test 55 Prediction: 8 True Class: 8\n",
      "Test 56 Prediction: 3 True Class: 3\n",
      "Test 57 Prediction: 3 True Class: 3\n",
      "Test 58 Prediction: 8 True Class: 8\n",
      "Test 59 Prediction: 2 True Class: 2\n",
      "Test 60 Prediction: 1 True Class: 1\n",
      "Test 61 Prediction: 1 True Class: 1\n",
      "Test 62 Prediction: 4 True Class: 4\n",
      "Test 63 Prediction: 0 True Class: 0\n",
      "Test 64 Prediction: 6 True Class: 6\n",
      "Test 65 Prediction: 6 True Class: 6\n",
      "Test 66 Prediction: 1 True Class: 1\n",
      "Test 67 Prediction: 8 True Class: 8\n",
      "Test 68 Prediction: 7 True Class: 2\n",
      "Test 69 Prediction: 8 True Class: 8\n",
      "Test 70 Prediction: 8 True Class: 8\n",
      "Test 71 Prediction: 5 True Class: 5\n",
      "Test 72 Prediction: 8 True Class: 8\n",
      "Test 73 Prediction: 7 True Class: 7\n",
      "Test 74 Prediction: 9 True Class: 9\n",
      "Test 75 Prediction: 9 True Class: 9\n",
      "Test 76 Prediction: 1 True Class: 1\n",
      "Test 77 Prediction: 2 True Class: 2\n",
      "Test 78 Prediction: 6 True Class: 6\n",
      "Test 79 Prediction: 3 True Class: 3\n",
      "Test 80 Prediction: 4 True Class: 4\n",
      "Test 81 Prediction: 4 True Class: 4\n",
      "Test 82 Prediction: 3 True Class: 3\n",
      "Test 83 Prediction: 4 True Class: 4\n",
      "Test 84 Prediction: 3 True Class: 3\n",
      "Test 85 Prediction: 3 True Class: 1\n",
      "Test 86 Prediction: 7 True Class: 7\n",
      "Test 87 Prediction: 2 True Class: 2\n",
      "Test 88 Prediction: 4 True Class: 4\n",
      "Test 89 Prediction: 9 True Class: 9\n",
      "Test 90 Prediction: 9 True Class: 9\n",
      "Test 91 Prediction: 2 True Class: 2\n",
      "Test 92 Prediction: 0 True Class: 0\n",
      "Test 93 Prediction: 9 True Class: 9\n",
      "Test 94 Prediction: 8 True Class: 8\n",
      "Test 95 Prediction: 7 True Class: 7\n",
      "Test 96 Prediction: 2 True Class: 2\n",
      "Test 97 Prediction: 0 True Class: 0\n",
      "Test 98 Prediction: 4 True Class: 9\n",
      "Test 99 Prediction: 5 True Class: 5\n",
      "Test 100 Prediction: 6 True Class: 6\n",
      "Test 101 Prediction: 5 True Class: 5\n",
      "Test 102 Prediction: 7 True Class: 7\n",
      "Test 103 Prediction: 5 True Class: 5\n",
      "Test 104 Prediction: 5 True Class: 5\n",
      "Test 105 Prediction: 6 True Class: 6\n",
      "Test 106 Prediction: 0 True Class: 0\n",
      "Test 107 Prediction: 7 True Class: 7\n",
      "Test 108 Prediction: 7 True Class: 7\n",
      "Test 109 Prediction: 8 True Class: 8\n",
      "Test 110 Prediction: 4 True Class: 8\n",
      "Test 111 Prediction: 5 True Class: 5\n",
      "Test 112 Prediction: 5 True Class: 5\n",
      "Test 113 Prediction: 9 True Class: 9\n",
      "Test 114 Prediction: 2 True Class: 2\n",
      "Test 115 Prediction: 6 True Class: 6\n",
      "Test 116 Prediction: 2 True Class: 2\n",
      "Test 117 Prediction: 2 True Class: 2\n",
      "Test 118 Prediction: 7 True Class: 7\n",
      "Test 119 Prediction: 3 True Class: 3\n",
      "Test 120 Prediction: 3 True Class: 3\n",
      "Test 121 Prediction: 6 True Class: 6\n",
      "Test 122 Prediction: 4 True Class: 4\n",
      "Test 123 Prediction: 5 True Class: 5\n",
      "Test 124 Prediction: 9 True Class: 7\n",
      "Test 125 Prediction: 9 True Class: 9\n",
      "Test 126 Prediction: 5 True Class: 9\n",
      "Test 127 Prediction: 3 True Class: 3\n",
      "Test 128 Prediction: 6 True Class: 6\n",
      "Test 129 Prediction: 5 True Class: 5\n",
      "Test 130 Prediction: 2 True Class: 2\n",
      "Test 131 Prediction: 2 True Class: 2\n",
      "Test 132 Prediction: 5 True Class: 5\n",
      "Test 133 Prediction: 1 True Class: 1\n",
      "Test 134 Prediction: 5 True Class: 5\n",
      "Test 135 Prediction: 1 True Class: 1\n",
      "Test 136 Prediction: 9 True Class: 9\n",
      "Test 137 Prediction: 0 True Class: 0\n",
      "Test 138 Prediction: 0 True Class: 0\n",
      "Test 139 Prediction: 3 True Class: 3\n",
      "Test 140 Prediction: 2 True Class: 2\n",
      "Test 141 Prediction: 9 True Class: 9\n",
      "Test 142 Prediction: 8 True Class: 8\n",
      "Test 143 Prediction: 1 True Class: 1\n",
      "Test 144 Prediction: 9 True Class: 9\n",
      "Test 145 Prediction: 5 True Class: 5\n",
      "Test 146 Prediction: 4 True Class: 4\n",
      "Test 147 Prediction: 4 True Class: 4\n",
      "Test 148 Prediction: 8 True Class: 8\n",
      "Test 149 Prediction: 4 True Class: 4\n",
      "Test 150 Prediction: 6 True Class: 6\n",
      "Test 151 Prediction: 0 True Class: 0\n",
      "Test 152 Prediction: 7 True Class: 7\n",
      "Test 153 Prediction: 1 True Class: 1\n",
      "Test 154 Prediction: 7 True Class: 7\n",
      "Test 155 Prediction: 2 True Class: 2\n",
      "Test 156 Prediction: 0 True Class: 0\n",
      "Test 157 Prediction: 1 True Class: 1\n",
      "Test 158 Prediction: 6 True Class: 6\n",
      "Test 159 Prediction: 7 True Class: 7\n",
      "Test 160 Prediction: 5 True Class: 5\n",
      "Test 161 Prediction: 8 True Class: 8\n",
      "Test 162 Prediction: 1 True Class: 1\n",
      "Test 163 Prediction: 8 True Class: 8\n",
      "Test 164 Prediction: 6 True Class: 6\n",
      "Test 165 Prediction: 4 True Class: 4\n",
      "Test 166 Prediction: 0 True Class: 0\n",
      "Test 167 Prediction: 3 True Class: 3\n",
      "Test 168 Prediction: 8 True Class: 9\n",
      "Test 169 Prediction: 2 True Class: 2\n",
      "Test 170 Prediction: 9 True Class: 9\n",
      "Test 171 Prediction: 0 True Class: 0\n",
      "Test 172 Prediction: 5 True Class: 5\n",
      "Test 173 Prediction: 2 True Class: 2\n",
      "Test 174 Prediction: 9 True Class: 9\n",
      "Test 175 Prediction: 9 True Class: 9\n",
      "Test 176 Prediction: 3 True Class: 3\n",
      "Test 177 Prediction: 4 True Class: 4\n",
      "Test 178 Prediction: 9 True Class: 9\n",
      "Test 179 Prediction: 9 True Class: 9\n",
      "Test 180 Prediction: 5 True Class: 5\n",
      "Test 181 Prediction: 1 True Class: 1\n",
      "Test 182 Prediction: 1 True Class: 1\n",
      "Test 183 Prediction: 1 True Class: 1\n",
      "Test 184 Prediction: 4 True Class: 4\n",
      "Test 185 Prediction: 7 True Class: 7\n",
      "Test 186 Prediction: 9 True Class: 9\n",
      "Test 187 Prediction: 3 True Class: 3\n",
      "Test 188 Prediction: 9 True Class: 9\n",
      "Test 189 Prediction: 6 True Class: 6\n",
      "Test 190 Prediction: 6 True Class: 6\n",
      "Test 191 Prediction: 0 True Class: 0\n",
      "Test 192 Prediction: 2 True Class: 2\n",
      "Test 193 Prediction: 5 True Class: 5\n",
      "Test 194 Prediction: 3 True Class: 3\n",
      "Test 195 Prediction: 2 True Class: 2\n",
      "Test 196 Prediction: 7 True Class: 7\n",
      "Test 197 Prediction: 8 True Class: 8\n",
      "Test 198 Prediction: 1 True Class: 1\n",
      "Test 199 Prediction: 0 True Class: 0\n",
      "Done!\n",
      "Accuracy: 0.9350000000000007\n"
     ]
    }
   ],
   "source": [
    "\n",
    "# Start training\n",
    "with tf.Session() as sess:\n",
    "    sess.run(init)\n",
    "\n",
    "    # loop over test data\n",
    "    for i in range(len(Xte)):\n",
    "        # Get nearest neighbor\n",
    "        nn_index = sess.run(pred, feed_dict={xtr: Xtr, xte: Xte[i, :]})\n",
    "        # Get nearest neighbor class label and compare it to its true label\n",
    "        print (\"Test\", i, \"Prediction:\", np.argmax(Ytr[nn_index]), \\\n",
    "            \"True Class:\", np.argmax(Yte[i]))\n",
    "        # Calculate accuracy\n",
    "        if np.argmax(Ytr[nn_index]) == np.argmax(Yte[i]):\n",
    "            accuracy += 1./len(Xte)\n",
    "    print (\"Done!\")\n",
    "    print (\"Accuracy:\", accuracy)"
   ]
  },
  {
   "cell_type": "code",
   "execution_count": 87,
   "metadata": {},
   "outputs": [
    {
     "data": {
      "text/plain": [
       "<matplotlib.image.AxesImage at 0x7fab8c7653c8>"
      ]
     },
     "execution_count": 87,
     "metadata": {},
     "output_type": "execute_result"
    },
    {
     "data": {
      "image/png": "[encoded data removed]",
      "text/plain": [
       "<Figure size 432x288 with 1 Axes>"
      ]
     },
     "metadata": {},
     "output_type": "display_data"
    }
   ],
   "source": [
    "#Collect one image\n",
    "image1_ = Xtr[2]\n",
    "\n",
    "#print image\n",
    "import PIL\n",
    "import numpy as np\n",
    "import matplotlib.pyplot as plt\n",
    "plt.imshow(image1_.reshape((28,28)), cmap='Greys')\n"
   ]
  },
  {
   "cell_type": "code",
   "execution_count": 93,
   "metadata": {},
   "outputs": [
    {
     "ename": "TypeError",
     "evalue": "gradients() missing 1 required positional argument: 'xs'",
     "output_type": "error",
     "traceback": [
      "\u001b[0;31m---------------------------------------------------------------------------\u001b[0m",
      "\u001b[0;31mTypeError\u001b[0m                                 Traceback (most recent call last)",
      "\u001b[0;32m<ipython-input-93-a907388f3a16>\u001b[0m in \u001b[0;36m<module>\u001b[0;34m()\u001b[0m\n\u001b[1;32m      9\u001b[0m \u001b[0;34m\u001b[0m\u001b[0m\n\u001b[1;32m     10\u001b[0m \u001b[0mlabels\u001b[0m \u001b[0;34m=\u001b[0m \u001b[0mtf\u001b[0m\u001b[0;34m.\u001b[0m\u001b[0mone_hot\u001b[0m\u001b[0;34m(\u001b[0m\u001b[0my_hat\u001b[0m\u001b[0;34m,\u001b[0m\u001b[0;36m10\u001b[0m\u001b[0;34m)\u001b[0m\u001b[0;34m\u001b[0m\u001b[0m\n\u001b[0;32m---> 11\u001b[0;31m \u001b[0mloss\u001b[0m \u001b[0;34m=\u001b[0m \u001b[0mtf\u001b[0m\u001b[0;34m.\u001b[0m\u001b[0mgradients\u001b[0m\u001b[0;34m(\u001b[0m\u001b[0mpred\u001b[0m\u001b[0;34m)\u001b[0m\u001b[0;34m\u001b[0m\u001b[0m\n\u001b[0m\u001b[1;32m     12\u001b[0m \u001b[0moptim_step\u001b[0m \u001b[0;34m=\u001b[0m \u001b[0mtf\u001b[0m\u001b[0;34m.\u001b[0m\u001b[0mtrain\u001b[0m\u001b[0;34m.\u001b[0m\u001b[0mGradientDescentOptimizer\u001b[0m\u001b[0;34m(\u001b[0m\u001b[0mlearning_rate\u001b[0m\u001b[0;34m)\u001b[0m\u001b[0;34m.\u001b[0m\u001b[0mminimize\u001b[0m\u001b[0;34m(\u001b[0m\u001b[0mloss\u001b[0m\u001b[0;34m,\u001b[0m\u001b[0mvar_list\u001b[0m\u001b[0;34m=\u001b[0m\u001b[0;34m[\u001b[0m\u001b[0mx_hat\u001b[0m\u001b[0;34m]\u001b[0m\u001b[0;34m)\u001b[0m\u001b[0;34m\u001b[0m\u001b[0m\n",
      "\u001b[0;31mTypeError\u001b[0m: gradients() missing 1 required positional argument: 'xs'"
     ]
    }
   ],
   "source": [
    "tf.train.\n",
    "\n"
   ]
  },
  {
   "cell_type": "code",
   "execution_count": null,
   "metadata": {},
   "outputs": [],
   "source": []
  },
  {
   "cell_type": "code",
   "execution_count": 46,
   "metadata": {},
   "outputs": [
    {
     "data": {
      "image/png": "[encoded data removed]",
      "text/plain": [
       "<Figure size 432x288 with 2 Axes>"
      ]
     },
     "metadata": {},
     "output_type": "display_data"
    }
   ],
   "source": [
    "#Plotting samples\n",
    "#%matplotlib inline\n",
    "# Plot the last batch results:\n",
    "#actuals = np.argmax(y_batch, axis=1)\n",
    "\n",
    "#Nrows = 2\n",
    "#Ncols = 3\n",
    "#for i in range(len(actuals)):\n",
    " #   plt.subplot(Nrows, Ncols, i+1)\n",
    "  #  plt.imshow(np.reshape(x_batch[i], [28,28]), cmap='Greys_r')\n",
    "   # plt.title('Actual: ' + str(actuals[i]) + ' Pred: ' + str(predictions[i]),\n",
    "    #                           fontsize=10)\n",
    "   # frame = plt.gca()\n",
    "   # frame.axes.get_xaxis().set_visible(False)\n",
    "   # frame.axes.get_yaxis().set_visible(False)"
   ]
  }
 ],
 "metadata": {
  "kernelspec": {
   "display_name": "Python 3",
   "language": "python",
   "name": "python3"
  },
  "language_info": {
   "codemirror_mode": {
    "name": "ipython",
    "version": 3
   },
   "file_extension": ".py",
   "mimetype": "text/x-python",
   "name": "python",
   "nbconvert_exporter": "python",
   "pygments_lexer": "ipython3",
   "version": "3.5.5"
  }
 },
 "nbformat": 4,
 "nbformat_minor": 2
}
