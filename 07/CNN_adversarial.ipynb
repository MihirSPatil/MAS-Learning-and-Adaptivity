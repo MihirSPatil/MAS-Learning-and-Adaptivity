{
 "cells": [
  {
   "cell_type": "code",
   "execution_count": 103,
   "metadata": {},
   "outputs": [],
   "source": [
    "%matplotlib inline\n",
    "import matplotlib.pyplot as plt\n",
    "from mpl_toolkits.axes_grid1 import ImageGrid\n",
    "import numpy as np\n",
    "import tensorflow as tf\n",
    "from tensorflow.examples.tutorials.mnist import input_data"
   ]
  },
  {
   "cell_type": "code",
   "execution_count": 104,
   "metadata": {},
   "outputs": [
    {
     "name": "stdout",
     "output_type": "stream",
     "text": [
      "Extracting MNIST_data\\train-images-idx3-ubyte.gz\n",
      "Extracting MNIST_data\\train-labels-idx1-ubyte.gz\n",
      "Extracting MNIST_data\\t10k-images-idx3-ubyte.gz\n",
      "Extracting MNIST_data\\t10k-labels-idx1-ubyte.gz\n"
     ]
    }
   ],
   "source": [
    "mnist = input_data.read_data_sets('MNIST_data', one_hot=True)"
   ]
  },
  {
   "cell_type": "code",
   "execution_count": 105,
   "metadata": {},
   "outputs": [],
   "source": [
    "sess = tf.InteractiveSession()"
   ]
  },
  {
   "cell_type": "code",
   "execution_count": 106,
   "metadata": {},
   "outputs": [],
   "source": [
    "# Functions for creating weights and biases\n",
    "# https://www.tensorflow.org/get_started/mnist/pros\n",
    "def weight_variable(shape):\n",
    "    initial = tf.truncated_normal(shape, stddev=0.1)\n",
    "    return tf.Variable(initial)\n",
    "\n",
    "def bias_variable(shape):\n",
    "    initial = tf.constant(0.1, shape=shape)\n",
    "    return tf.Variable(initial)\n",
    "\n",
    "# Functions for convolution and pooling functions\n",
    "def conv2d(x, W):\n",
    "    return tf.nn.conv2d(x, W, strides=[1,1,1,1], padding='SAME')\n",
    "\n",
    "def max_pooling_2x2(x):\n",
    "    return tf.nn.max_pool(x, ksize=[1,2,2,1], strides=[1,2,2,1], padding='SAME')"
   ]
  },
  {
   "cell_type": "code",
   "execution_count": 107,
   "metadata": {},
   "outputs": [],
   "source": [
    "# Create placeholders nodes for images and label inputs# Creat \n",
    "x = tf.placeholder(tf.float32, shape=[None, 784])\n",
    "y_ = tf.placeholder(tf.float32, shape=[None, 10])"
   ]
  },
  {
   "cell_type": "code",
   "execution_count": 108,
   "metadata": {},
   "outputs": [],
   "source": [
    "# y = (Wx +b)\n",
    "# https://www.tensorflow.org/get_started/mnist/pros\n",
    "\n",
    "# Input layer\n",
    "x_image = tf.reshape(x, [-1,28,28,1]) # mnist image comes in as 784 vector\n",
    "\n",
    "# Conv layer 1 - 32x5x5\n",
    "W_conv1 = weight_variable([5, 5, 1, 32])\n",
    "b_conv1 = bias_variable([32])\n",
    "x_conv1 = tf.nn.relu(conv2d(x_image, W_conv1) + b_conv1)\n",
    "x_pool1 = max_pooling_2x2(x_conv1)\n",
    "\n",
    "# Conv layer 2 - 64x5x5\n",
    "W_conv2 = weight_variable([5, 5, 32, 64])\n",
    "b_conv2 = bias_variable([64])\n",
    "x_conv2 = tf.nn.relu(conv2d(x_pool1, W_conv2) + b_conv2)\n",
    "x_pool2 = max_pooling_2x2(x_conv2)\n",
    "\n",
    "# Flatten - keras 'flatten'\n",
    "x_flat = tf.reshape(x_pool2, [-1, 7*7*64])\n",
    "\n",
    "# Dense fully connected layer\n",
    "W_fc1 = weight_variable([7 * 7 * 64, 1024]) # max pooling reduced image to 7x7\n",
    "b_fc1 = bias_variable([1024])\n",
    "x_fc1 = tf.nn.relu(tf.matmul(x_flat, W_fc1) + b_fc1)\n",
    "\n",
    "# Regularization with dropout\n",
    "keep_prob = tf.placeholder(tf.float32)\n",
    "x_fc1_drop = tf.nn.dropout(x_fc1, keep_prob)\n",
    "\n",
    "# Classification layer\n",
    "W_fc2 = weight_variable([1024, 10])\n",
    "b_fc2 = bias_variable([10])\n",
    "y_conv = tf.matmul(x_fc1_drop, W_fc2) + b_fc2\n"
   ]
  },
  {
   "cell_type": "code",
   "execution_count": 109,
   "metadata": {},
   "outputs": [],
   "source": [
    "# Probabilities - output from model (not the same as logits)\n",
    "y = tf.nn.softmax(y_conv)"
   ]
  },
  {
   "cell_type": "code",
   "execution_count": 110,
   "metadata": {},
   "outputs": [],
   "source": [
    "# Loss and optimizer# Loss a \n",
    "cross_entropy = tf.reduce_mean(tf.nn.softmax_cross_entropy_with_logits(labels=y_, logits=y_conv))\n",
    "train_step = tf.train.AdamOptimizer(1e-4).minimize(cross_entropy)"
   ]
  },
  {
   "cell_type": "code",
   "execution_count": 111,
   "metadata": {},
   "outputs": [],
   "source": [
    "# Setup to test accuracy of model\n",
    "correct_prediction = tf.equal(tf.argmax(y_conv,1), tf.argmax(y_,1))\n",
    "accuracy = tf.reduce_mean(tf.cast(correct_prediction, tf.float32))"
   ]
  },
  {
   "cell_type": "code",
   "execution_count": 112,
   "metadata": {},
   "outputs": [],
   "source": [
    "# Initilize all global variables\n",
    "sess.run(tf.global_variables_initializer())"
   ]
  },
  {
   "cell_type": "code",
   "execution_count": 113,
   "metadata": {},
   "outputs": [
    {
     "name": "stdout",
     "output_type": "stream",
     "text": [
      "step 0, training accuracy 0.2\n",
      "step 100, training accuracy 0.89\n",
      "step 200, training accuracy 0.92\n",
      "step 300, training accuracy 0.93\n",
      "step 400, training accuracy 0.96\n"
     ]
    }
   ],
   "source": [
    "# Train model\n",
    "# Run once to get the model to a good confidence level\n",
    "for i in range(500):\n",
    "    batch = mnist.train.next_batch(100)\n",
    "    if i%100 == 0:\n",
    "        train_accuracy = accuracy.eval(feed_dict={x:batch[0], y_: batch[1], keep_prob: 1.0})\n",
    "        print(\"step %d, training accuracy %g\"%(i, train_accuracy))\n",
    "\n",
    "    train_step.run(feed_dict={x: batch[0], y_: batch[1], keep_prob: 0.4})"
   ]
  },
  {
   "cell_type": "code",
   "execution_count": 114,
   "metadata": {},
   "outputs": [
    {
     "name": "stdout",
     "output_type": "stream",
     "text": [
      "test accuracy 0.944\n"
     ]
    }
   ],
   "source": [
    "# Run trained model against test data\n",
    "print(\"test accuracy %g\"%accuracy.eval(feed_dict={x: mnist.test.images[0:500], \n",
    "                                                  y_: mnist.test.labels[0:500], keep_prob: 1.0}))"
   ]
  },
  {
   "cell_type": "code",
   "execution_count": 115,
   "metadata": {},
   "outputs": [
    {
     "name": "stdout",
     "output_type": "stream",
     "text": [
      "Adversial accuracy 0.62\n"
     ]
    }
   ],
   "source": [
    "img_adv_list = list()\n",
    "y_label = [0,0,0,0,0,0,1,0,0,0]\n",
    "eps = 0.1\n",
    "index = 1\n",
    "\n",
    "for index in range(100):\n",
    "    image_norm = mnist.test.images[index]\n",
    "    image_norm = np.reshape(image_norm, (1, 784))\n",
    "\n",
    "    original_image = image_norm\n",
    "\n",
    "    loss =  tf.nn.softmax_cross_entropy_with_logits(labels=y_label, logits=y)\n",
    "    deriv = tf.gradients(loss, x)\n",
    "\n",
    "    image_adv = tf.stop_gradient(x - tf.sign(deriv)*eps)\n",
    "    image_adv = tf.clip_by_value(image_adv, 0, 1)\n",
    "\n",
    "    #dydx = sess.run(deriv, {x: x_image, keep_prob: 1.0}) \n",
    "    x_adv = sess.run(image_adv, {x: original_image, keep_prob: 1.0})\n",
    "    x_image = np.reshape(x_adv, (1, 784))\n",
    "    img_adv_list.append(np.squeeze(x_image))\n",
    "\n",
    "new_img_list = np.array(img_adv_list)\n",
    "print(\"Adversial accuracy %g\"%accuracy.eval(feed_dict={x: new_img_list, \n",
    "                                                   y_: mnist.test.labels[0:100], keep_prob: 1.0}))"
   ]
  },
  {
   "cell_type": "code",
   "execution_count": 116,
   "metadata": {},
   "outputs": [
    {
     "name": "stdout",
     "output_type": "stream",
     "text": [
      "Epoch: 0001 cost= 1.184346928\n",
      "Epoch: 0002 cost= 0.666558521\n",
      "Epoch: 0003 cost= 0.552374808\n",
      "Epoch: 0004 cost= 0.499382836\n",
      "Epoch: 0005 cost= 0.465472445\n",
      "Epoch: 0006 cost= 0.442538566\n",
      "Epoch: 0007 cost= 0.425703498\n",
      "Epoch: 0008 cost= 0.411542967\n",
      "Epoch: 0009 cost= 0.401541156\n",
      "Epoch: 0010 cost= 0.392360053\n",
      "Epoch: 0011 cost= 0.385793734\n",
      "Epoch: 0012 cost= 0.377451270\n",
      "Epoch: 0013 cost= 0.371519373\n",
      "Epoch: 0014 cost= 0.368496240\n",
      "Epoch: 0015 cost= 0.363197807\n",
      "Epoch: 0016 cost= 0.356623211\n",
      "Epoch: 0017 cost= 0.355426335\n",
      "Epoch: 0018 cost= 0.352173921\n",
      "Epoch: 0019 cost= 0.348494050\n",
      "Epoch: 0020 cost= 0.345959686\n",
      "Epoch: 0021 cost= 0.340833946\n",
      "Epoch: 0022 cost= 0.341859334\n",
      "Epoch: 0023 cost= 0.338874917\n",
      "Epoch: 0024 cost= 0.334670528\n",
      "Epoch: 0025 cost= 0.334672520\n",
      "Optimization Finished!\n",
      "Accuracy: 0.9138\n",
      "Accuracy for adversarial 0.7\n"
     ]
    }
   ],
   "source": [
    "x_train = mnist.train.images\n",
    "y_train = mnist.train.labels\n",
    "x_test = mnist.test.images\n",
    "y_test = mnist.test.labels\n",
    "\n",
    "learning_rate = 0.01\n",
    "training_epochs = 25\n",
    "batch_size = 100\n",
    "display_step = 1\n",
    "\n",
    "# tf Graph Input\n",
    "x_logistic = tf.placeholder(tf.float32, [None, 784]) # mnist data image of shape 28*28=784\n",
    "#print(x)\n",
    "y_logistic = tf.placeholder(tf.float32, [None, 10]) # 0-9 digits recognition => 10 classes\n",
    "\n",
    "# Set model weights\n",
    "W_logistic = tf.Variable(tf.zeros([784, 10]))\n",
    "b_logistic = tf.Variable(tf.zeros([10]))\n",
    "\n",
    "# Construct model\n",
    "pred_logistic = tf.nn.softmax(tf.matmul(x_logistic, W_logistic) + b_logistic) # Softmax\n",
    "\n",
    "# Minimize error using cross entropy\n",
    "cost_logistic = tf.reduce_mean(-tf.reduce_sum(y_logistic*tf.log(pred_logistic), reduction_indices=1))\n",
    "grads_logistic = tf.gradients(cost_logistic, [x_logistic])[0]\n",
    "\n",
    "\n",
    "\n",
    "# Gradient Descent\n",
    "optimizer = tf.train.GradientDescentOptimizer(learning_rate).minimize(cost_logistic)\n",
    "\n",
    "# Initialize the variables (i.e. assign their default value)\n",
    "\n",
    "# Run the initializer\n",
    "sess.run(tf.global_variables_initializer())\n",
    "\n",
    "# Training cycle\n",
    "for epoch in range(training_epochs):\n",
    "    avg_cost = 0.\n",
    "    total_batch = int(mnist.train.num_examples/batch_size)\n",
    "    # Loop over all batches\n",
    "    for i in range(total_batch):\n",
    "        batch_xs, batch_ys = mnist.train.next_batch(batch_size)\n",
    "        # Run optimization op (backprop) and cost op (to get loss value)\n",
    "        _, c = sess.run([optimizer, cost_logistic], feed_dict={x_logistic: batch_xs,\n",
    "                                                      y_logistic: batch_ys})\n",
    "        # Compute average loss\n",
    "        avg_cost += c / total_batch\n",
    "    # Display logs per epoch step\n",
    "    if (epoch+1) % display_step == 0:\n",
    "        print(\"Epoch:\", '%04d' % (epoch+1), \"cost=\", \"{:.9f}\".format(avg_cost))\n",
    "\n",
    "print(\"Optimization Finished!\")\n",
    "\n",
    "# Test model\n",
    "correct_prediction = tf.equal(tf.argmax(pred_logistic, 1), tf.argmax(y_logistic, 1))\n",
    "# Calculate accuracy\n",
    "accuracy_logistic = tf.reduce_mean(tf.cast(correct_prediction, tf.float32))\n",
    "print(\"Accuracy:\", accuracy_logistic.eval(feed_dict={x_logistic: mnist.test.images, y_logistic: mnist.test.labels}))\n",
    "eps = 0.1\n",
    "gradients = sess.run(grads_logistic,feed_dict={x_logistic: mnist.test.images ,y_logistic: mnist.test.labels})\n",
    "adversial_image = list()\n",
    "for i in range(100):\n",
    "    adversial_image.append(mnist.test.images[i] + eps * np.sign(gradients[mnist.test.labels.tolist()[i].index(1.0)]))\n",
    "print(\"Accuracy for adversarial\", accuracy_logistic.eval(feed_dict={x_logistic: adversial_image, y_logistic: mnist.test.labels[:100]}))\n"
   ]
  },
  {
   "cell_type": "code",
   "execution_count": 117,
   "metadata": {},
   "outputs": [
    {
     "name": "stdout",
     "output_type": "stream",
     "text": [
      "Accuracy for adversarial 0.91\n"
     ]
    }
   ],
   "source": [
    "#using Cnn adversarial images for logistic regression model\n",
    "print(\"Accuracy for adversarial\", accuracy_logistic.eval(feed_dict={x_logistic: new_img_list, y_logistic: mnist.test.labels[:100]}))"
   ]
  },
  {
   "cell_type": "code",
   "execution_count": 118,
   "metadata": {},
   "outputs": [
    {
     "name": "stdout",
     "output_type": "stream",
     "text": [
      "Adversial accuracy 0.12\n"
     ]
    }
   ],
   "source": [
    "# Using adversarial images of logistic for CNN\n",
    "print(\"Adversial accuracy %g\"%accuracy.eval(feed_dict={x: new_img_list, \n",
    "                                                   y_: mnist.test.labels[0:100], keep_prob: 1.0}))"
   ]
  },
  {
   "cell_type": "code",
   "execution_count": 119,
   "metadata": {},
   "outputs": [],
   "source": [
    "sess.close()"
   ]
  },
  {
   "cell_type": "code",
   "execution_count": null,
   "metadata": {},
   "outputs": [],
   "source": [
    "#Creating adversarials images\n",
    "adversarial_images_ultimate = []\n",
    "num_adversaries_ultimate = len(mnist.test.images)\n",
    "with tf.Session() as sess:\n",
    "    sess.run(init)\n",
    "    print(\"Creating ... {} training examples\" .format(num_adversaries_ultimate))\n",
    "   #Creation of same number of training data of adversarial examples\n",
    "   # for logistic regression\n",
    "    grad = sess.run([grad_input], feed_dict={x:  mnist.train.images,y:  mnist.train.labels})\n",
    "    grad = np.array(grad)\n",
    "    grad = grad.reshape(55000,784)\n",
    "\n",
    "    for i in range(num_adversaries_ultimate):\n",
    "        img_ad = mnist.train.images[i] + eps * np.sign(grad[mnist.train.labels.tolist()[i].index(1.0)])\n",
    "        adversarial_images_ultimate.append(img_ad)\n",
    "   \n",
    "    print(\"Finishing generating the adversarial examples\")\n",
    "    print(\"Number of adversarials\", len(adversarial_images_ultimate))\n",
    "adversarial_images_ultimate_bk = adversarial_images_ultimate[1:10001]\n",
    "print(len(adversarial_images_ultimate_bk))\n",
    "adversarial_images_ultimate = adversarial_images_ultimate_bk\n",
    "adversarial_images_ultimate_label = []\n",
    "print(len(adversarial_images_ultimate))\n",
    "\n",
    "for i in range(num_adversaries_ultimate):\n",
    "    adversarial_images_ultimate.append(mnist.train.images[i])\n",
    "   #adding a set of training images\n",
    "for i in range(num_adversaries_ultimate):\n",
    "    adversarial_images_ultimate_label.append(list(mnist.train.labels[i]))\n",
    "for i in range(num_adversaries_ultimate):\n",
    "#     print(mnist.train.labels[i])\n",
    "   adversarial_images_ultimate_label.append(list(mnist.train.labels[i]))\n",
    "print(len(adversarial_images_ultimate))\n",
    "print(len(adversarial_images_ultimate_label))\n",
    "#Training with the ultimate adversarials list of 20,000 images\n",
    "# Start training\n",
    "with tf.Session() as sess:\n",
    "    sess.run(init)\n",
    "   \n",
    "   print(\"Starting training\")\n",
    "   # Training cycle\n",
    "   for epoch in range(training_epochs):\n",
    "        avg_cost = 0.\n",
    "        total_batch = int(len(adversarial_images_ultimate)/batch_size)\n",
    "        print(total_batch)\n",
    "       # Loop over all batches\n",
    "#         for i in range(total_batch):\n",
    "#         batch_xs = adversarial_images_ultimate[i*100:(i+1)*100]\n",
    "       batch_xs = adversarial_images_ultimate\n",
    "#         batch_ys = adversarial_images_ultimate_label[i*100:(i+1)*100]\n",
    "       batch_ys = adversarial_images_ultimate_label\n",
    "           \n",
    "       # Fit training using batch data\n",
    "       _, c = sess.run([optimizer, loss], feed_dict={x: batch_xs,\n",
    "                                                         y: batch_ys})\n",
    "       # Compute average loss\n",
    "#         avg_cost += c / total_batch\n",
    "           \n",
    "           # Display logs per epoch step\n",
    "        if (epoch+1) % display_step == 0:\n",
    "            print (\"Epoch:\", '%04d' % (epoch+1), \"cost=\", \"{:.9f}\".format(avg_cost))\n",
    "\n",
    "    print (\"Training Finished!\")\n",
    "   \n",
    "   print(\"Starting testing\")\n",
    "   # Test model\n",
    "   correct_prediction = tf.equal(tf.argmax(y_pred, 1), tf.argmax(y, 1))\n",
    "   \n",
    "   # Accuracy model\n",
    "    accuracy = tf.reduce_mean(tf.cast(correct_prediction, tf.float32))\n",
    "   \n",
    "   #Calculating the accuracy with the testing data.\n",
    "    print (\"Accuracy Testing:\", accuracy.eval({x: mnist.test.images, y: mnist.test.labels}))"
   ]
  },
  {
   "cell_type": "code",
   "execution_count": null,
   "metadata": {},
   "outputs": [],
   "source": []
  },
  {
   "cell_type": "markdown",
   "metadata": {},
   "source": [
    "Reference:\n",
    "https://github.com/jasonicarter/MNIST-adversarial-images/blob/master/MNIST-adversarial-images.ipynb"
   ]
  }
 ],
 "metadata": {
  "kernelspec": {
   "display_name": "Python 3",
   "language": "python",
   "name": "python3"
  },
  "language_info": {
   "codemirror_mode": {
    "name": "ipython",
    "version": 3
   },
   "file_extension": ".py",
   "mimetype": "text/x-python",
   "name": "python",
   "nbconvert_exporter": "python",
   "pygments_lexer": "ipython3",
   "version": "3.5.5"
  }
 },
 "nbformat": 4,
 "nbformat_minor": 2
}
