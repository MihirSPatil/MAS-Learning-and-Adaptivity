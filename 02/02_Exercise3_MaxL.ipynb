{
 "cells": [
  {
   "cell_type": "markdown",
   "metadata": {},
   "source": [
    "GIVEN: Samples $0,1,0,0,1,0$ from a binomial distribution which has the form:\n",
    "P(x=0)=(1-$\\mu$), P(x=1)=$\\mu$"
   ]
  },
  {
   "cell_type": "markdown",
   "metadata": {},
   "source": [
    "$P(Success \\: | \\: p) = \n",
    "\\begin{pmatrix}\n",
    "Total\\\\\n",
    "Success\n",
    "\\end{pmatrix}\n",
    "p^{\\:Success} \\: (1 - p)^{\\:Failure} \n",
    "$\n",
    "\n",
    "$P(x \\: | \\: \\mu) = \n",
    "\\begin{pmatrix}\n",
    "6\\\\\n",
    "2\n",
    "\\end{pmatrix}\n",
    "\\mu^{\\: 2} \\: (1 - \\mu)^{\\: 4} \n",
    "$\n",
    "\n",
    "$ \\frac{P(x \\: | \\: \\mu)}{\\partial \\mu} = 0\n",
    "$\n",
    "\n",
    "Based on the calculation from the given sample data. It was found that the Maximal Likelihood of $\\mu$ is $1/3$"
   ]
  },
  {
   "cell_type": "code",
   "execution_count": 18,
   "metadata": {},
   "outputs": [
    {
     "name": "stdout",
     "output_type": "stream",
     "text": [
      "-4*mu**2*(-mu + 1)**3 + 2*mu*(-mu + 1)**4\n"
     ]
    },
    {
     "data": {
      "text/plain": [
       "[0, 1/3, 1]"
      ]
     },
     "execution_count": 18,
     "metadata": {},
     "output_type": "execute_result"
    }
   ],
   "source": [
    "import sympy as sp\n",
    "data = [0,1,0,0,1,0]\n",
    "success = sum(data)\n",
    "failure = len(data) - success\n",
    "mu = sp.symbols('mu')\n",
    "eq = mu ** success * (1 - mu) ** failure\n",
    "eq_prime = sp.diff(eq,mu)\n",
    "print(eq_prime)\n",
    "sp.solve(eq_prime)"
   ]
  },
  {
   "cell_type": "markdown",
   "metadata": {},
   "source": [
    "REQUESTED: What is the maximum likelihood estimate of $\\mu$ \n",
    "Hint: you can use SymPy to compute the derivities symboliclly"
   ]
  }
 ],
 "metadata": {
  "kernelspec": {
   "display_name": "Python 2",
   "language": "python",
   "name": "python2"
  },
  "language_info": {
   "codemirror_mode": {
    "name": "ipython",
    "version": 3
   },
   "file_extension": ".py",
   "mimetype": "text/x-python",
   "name": "python",
   "nbconvert_exporter": "python",
   "pygments_lexer": "ipython3",
   "version": "3.6.2"
  }
 },
 "nbformat": 4,
 "nbformat_minor": 1
}
