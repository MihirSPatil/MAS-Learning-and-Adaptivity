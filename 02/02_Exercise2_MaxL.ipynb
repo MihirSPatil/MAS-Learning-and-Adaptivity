{
 "cells": [
  {
   "cell_type": "markdown",
   "metadata": {},
   "source": [
    "## Task1"
   ]
  },
  {
   "cell_type": "markdown",
   "metadata": {},
   "source": [
    "Implement in Python ( you can use SciPy library) the Maximum Likelihood Estimator to estimate the parameters for example mean and variance of some data.\n",
    "Your steps are:\n",
    "* Create a data set: \n",
    "    - Set x-values for example: *x = np.linspace(0, 100, num=100)*, \n",
    "    - Set observed y-values using a known slope (1.4), intercept (4), and sd (3), for example       *y = 4 + 1.4x + np.random.normal(0, 3, 100)*\n",
    "* Create a likelihood function which arguments is a list of initial parameters\n",
    "* Test this function on various data sets \n",
    "(Hint: you can use minimize from scipy.optimize and scipy.stats to compute the negative log-likelihood)"
   ]
  },
  {
   "cell_type": "code",
   "execution_count": 7,
   "metadata": {},
   "outputs": [
    {
     "name": "stdout",
     "output_type": "stream",
     "text": [
      "50.00000000000001\n",
      "850.1683501683503\n",
      "73.81253850769423\n",
      "1710.917764615227\n"
     ]
    }
   ],
   "source": [
    "from scipy.optimize import minimize\n",
    "import numpy as np\n",
    "x = np.linspace(0, 100, num=100)\n",
    "np.mean(x)\n",
    "np.var(x)\n",
    "\n"
   ]
  }
 ],
 "metadata": {
  "kernelspec": {
   "display_name": "Python 2",
   "language": "python",
   "name": "python2"
  },
  "language_info": {
   "codemirror_mode": {
    "name": "ipython",
    "version": 3
   },
   "file_extension": ".py",
   "mimetype": "text/x-python",
   "name": "python",
   "nbconvert_exporter": "python",
   "pygments_lexer": "ipython3",
   "version": "3.6.2"
  }
 },
 "nbformat": 4,
 "nbformat_minor": 1
}
